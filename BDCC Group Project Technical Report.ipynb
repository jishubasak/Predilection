{
 "cells": [
  {
   "cell_type": "markdown",
   "metadata": {},
   "source": [
    "# In The News: Predicting Winning Political Candidates From News Tone\n",
    "LT 13 | Basak, Chua, Danao, Roberto"
   ]
  },
  {
   "cell_type": "markdown",
   "metadata": {},
   "source": [
    "## Executive Summary"
   ]
  },
  {
   "cell_type": "markdown",
   "metadata": {},
   "source": [
    "## Introduction"
   ]
  },
  {
   "cell_type": "markdown",
   "metadata": {},
   "source": [
    "Predicting the future seems to be one of mankind's deepest fascinations, and why ever not? The ability to foresee future events presents a luxury of practical benefits. For one, it enables businesses to forecast sales and predict the next occurrence of equipment failure. It also allows investors to make an informed decision on which stocks to buy or which parcels of land would be most profitable for the new year. Moreover, it helps medical professionals have an idea of how long a patient would stay in the hospital based on her health records. Getting ahead gives one the necessary time to prepare or anticipate an emerging situation, and thus take prompt action to either mitigate the risk or take advantage of the opportunity.\n",
    "\n",
    "Although the science of forecasting finds applications in many different fields, it is not a complete stranger in the spheres of politics. The United States Presidential Elections is perhaps one of the most important political events, anticipated not only by Americans but as well as the rest of the world. This phenomenal transfer of power from one leader to another could either maintain the status quo or entirely redefine the world order. Thus, there is a strong, concerted effort among researchers to get the pulse of the voters either through social weather surveys, online polls, and other predictive methods.\n",
    "\n",
    "Marketing intelligence company IDC reports that the entire global datasphere will grow to about 175 zettabytes by 2025. With the emergence of disruptive technologies like Big Data and AI, our ability to predict future events has become more accurate than ever before. In this project, the authors explore the predictive power of Big Data in predicting election results."
   ]
  },
  {
   "cell_type": "markdown",
   "metadata": {},
   "source": [
    "## Problem Statement"
   ]
  },
  {
   "cell_type": "markdown",
   "metadata": {},
   "source": [
    "With more than 321 million monthly active users in 2018, Twitter has become one of the most influential modes of digital communication. It doles out as an online platform for people to \"tweet\" their thoughts, ideas, and opinions about almost all topics imaginable. These, of course, include their views about politics, and by extension, their feelings towards certain political figures, however positive or negative.\n",
    "\n",
    "Taking advantage of this trend, many groups of researchers and programmers have mined data from Twitter, among other social media channels, and use this information to gauge people's political sentiments and therefore predict election results. In fact, a relevant paper was published by BBN Technologies, an American research and development company, showing how a candidate's popularity on Twitter can be leveraged to predict the election outcome. The authors of the said publication have collected approximately 13 billion global Twitter messages and demonstrated how they can be used for predicting the results of the Venezuelan, Paraguayan and Ecuadorian Presidential election of 2013.\n",
    "\n",
    "While online literatures abound on using Twitter analytics for \"nowcasting\" the results of the polls, there are very few mentions of utilizing the Global Database of Events, Language, and Tone (GDELT) when making such a political forecast, if at all. GDELT is an immensely rich pool of data, containing some trillions of rows of various types of information from different parts of the world. A more detailed explanation of GDELT is provided at the latter part of this notebook.\n",
    "\n",
    "In this project, the authors intend to explore the potential predictive power of online news coverage with respect to the winnability of a certain political candidate. One of the motivations of this project is to devise an alternative measure to social weather surveys in gauging the sentiment of voters. Since news articles, as they should be, are technically less biased as compared to tweets or posts on social media, it may be inferred that the model would give a more reliable output.\n"
   ]
  },
  {
   "cell_type": "code",
   "execution_count": 1,
   "metadata": {
    "ExecuteTime": {
     "end_time": "2019-12-27T05:41:20.097538Z",
     "start_time": "2019-12-27T05:41:15.121174Z"
    },
    "scrolled": true
   },
   "outputs": [
    {
     "name": "stderr",
     "output_type": "stream",
     "text": [
      "Using TensorFlow backend.\n"
     ]
    }
   ],
   "source": [
    "import numpy as np\n",
    "import matplotlib.pyplot as plt\n",
    "import pickle\n",
    "import pandas as pd\n",
    "import dask\n",
    "from sklearn.metrics import r2_score, mean_absolute_error, mean_squared_error\n",
    "from keras import layers\n",
    "from keras import models\n",
    "from sklearn.preprocessing import MinMaxScaler\n",
    "from sklearn.model_selection import train_test_split"
   ]
  },
  {
   "cell_type": "markdown",
   "metadata": {},
   "source": [
    "## Methods and Data Exploration"
   ]
  },
  {
   "cell_type": "markdown",
   "metadata": {},
   "source": [
    "### GDELT Data"
   ]
  },
  {
   "cell_type": "markdown",
   "metadata": {},
   "source": [
    "For this study, the data was accessed through the Registry of Open Data on Amazon Web Service (AWS). Coverage of the 2016 United States Presidential Election was obtained by extracting GDELT entries corresponding to the United States for the entire year of 2016. A four-way race was considered in this study to help augment the data.\n",
    "\n",
    "The Global Database of Events, Language, and Tone (GDELT) is an initiative whose goal is to <a href='https://www.gdeltproject.org/'> “construct a catalog of human societal-scale behavior and beliefs across all countries of the world, connecting every person, organization, location, count, theme, news source, and event across the planet”</a>. Every 15 minutes, data is collected from news sources across the world along with the identities of those involved, their country, and the tone of language used in that piece of news with the corresponding time stamp per entry. The specific data accessed for this study was over 102.9 GB of data containing over 383 million entries.\n",
    "\n",
    "Direct interface with the GDELT data was done in a separate notebook that saved the relevant data for each presidential candidate as a time series."
   ]
  },
  {
   "cell_type": "markdown",
   "metadata": {
    "ExecuteTime": {
     "end_time": "2019-12-27T07:05:45.239167Z",
     "start_time": "2019-12-27T07:05:45.224182Z"
    }
   },
   "source": [
    "Below are some summary statistics for the time series of the articles obtained per candidate.\n",
    "\n",
    "<table><tr><th>Candidate</th><th>Total articles</th><th>Standard Dev.</th></tr><tr><td>Donald Trump</td><td>30544243</td><td>66390.26</td></tr><tr><td>Hillary Clinton</td><td>14177188</td><td>35032.018</td></tr><tr><td>Gary Johnson</td><td>754727</td><td>1743.20</td></tr><tr><td>Jill Stein</td><td>385886</td><td>1930.82</td></tr></table>\n"
   ]
  },
  {
   "cell_type": "markdown",
   "metadata": {},
   "source": [
    "### Time Series"
   ]
  },
  {
   "cell_type": "markdown",
   "metadata": {},
   "source": [
    "Each time series for a candidate was saved as a pickle file from the data wrangling notebook. These files are loaded and saved as separate variables.\n",
    "\n",
    "The files relevant to this study are the daily time series for the number of mentions and articles per candidate and the number of mentions and articles per canidate weighted by their tone."
   ]
  },
  {
   "cell_type": "code",
   "execution_count": 43,
   "metadata": {
    "ExecuteTime": {
     "end_time": "2019-12-27T06:08:18.694082Z",
     "start_time": "2019-12-27T06:08:18.664682Z"
    }
   },
   "outputs": [],
   "source": [
    "with open('trump_n_mentions.pkl','rb') as f:\n",
    "    trump_n_m = pickle.load(f)\n",
    "with open('clinton_n_mentions.pkl','rb') as f:\n",
    "    clinton_n_m = pickle.load(f)\n",
    "with open('stein_n_mentions.pkl','rb') as f:\n",
    "    stein_n_m = pickle.load(f)\n",
    "with open('johnson_n_mentions.pkl','rb') as f:\n",
    "    johnson_n_m = pickle.load(f)\n",
    "mentions = {'Donald Trump':trump_n_m, 'Hillary Clinton':clinton_n_m,\n",
    "            'Jill Stein':stein_n_m, 'Gary Johnson': johnson_n_m}\n",
    "    \n",
    "with open('trump_n_articles.pkl','rb') as f:\n",
    "    trump_n_a = pickle.load(f)\n",
    "with open('clinton_n_articles.pkl','rb') as f:\n",
    "    clinton_n_a = pickle.load(f)\n",
    "with open('stein_n_articles.pkl','rb') as f:\n",
    "    stein_n_a = pickle.load(f)\n",
    "with open('johnson_n_articles.pkl','rb') as f:\n",
    "    johnson_n_a = pickle.load(f)\n",
    "articles = {'Donald Trump':trump_n_a, 'Hillary Clinton':clinton_n_a,\n",
    "            'Jill Stein':stein_n_a, 'Gary Johnson': johnson_n_a}"
   ]
  },
  {
   "cell_type": "code",
   "execution_count": 44,
   "metadata": {
    "ExecuteTime": {
     "end_time": "2019-12-27T06:08:19.137664Z",
     "start_time": "2019-12-27T06:08:18.839531Z"
    }
   },
   "outputs": [
    {
     "data": {
      "image/png": "[encoded data removed]",
      "text/plain": [
       "<Figure size 1080x144 with 1 Axes>"
      ]
     },
     "metadata": {
      "needs_background": "light"
     },
     "output_type": "display_data"
    },
    {
     "data": {
      "image/png": "[encoded data removed]",
      "text/plain": [
       "<Figure size 1080x144 with 1 Axes>"
      ]
     },
     "metadata": {
      "needs_background": "light"
     },
     "output_type": "display_data"
    }
   ],
   "source": [
    "fig, ax = plt.subplots(figsize=(15,2))\n",
    "plt.title('Daily number of articles per candidate')\n",
    "plt.ylabel('Number of articles (100k)')\n",
    "plt.xlabel('Date')\n",
    "plt.plot(trump_n_a.values/100000, label = 'Trump', color = 'r', lw = 1)\n",
    "plt.plot(clinton_n_a.values/100000, label = 'Clinton', color = 'b', lw = 1)\n",
    "plt.xticks(np.linspace(0,365,13)[:-1], ('Jan', 'Feb','Mar','Apr','May','June','Jul','Aug','Sep','Oct', 'Nov', 'Dec'))\n",
    "plt.legend()\n",
    "plt.show()\n",
    "\n",
    "fig, ax = plt.subplots(figsize=(15,2))\n",
    "plt.title('Daily number of mentions per candidate')\n",
    "plt.ylabel('Number of articles (100k)')\n",
    "plt.xlabel('Date')\n",
    "plt.plot(trump_n_m.values/100000, label = 'Trump', color = 'r', lw = 1)\n",
    "plt.plot(clinton_n_m.values/100000, label = 'Clinton', color = 'b', lw = 1)\n",
    "plt.xticks(np.linspace(0,365,13)[:-1], ('Jan', 'Feb','Mar','Apr','May','June','Jul','Aug','Sep','Oct', 'Nov', 'Dec'))\n",
    "plt.legend()\n",
    "plt.show()"
   ]
  },
  {
   "cell_type": "markdown",
   "metadata": {},
   "source": [
    "It can be observed that daily number of articles and mentions per candidate have very little difference with one another suggesting that the underlying behavior for both is also similar. With the way GDELT collected and measure the number of mentions, it appears that for each article, there is approximately 1 mention for both Hillary Clinton and Donald Trump."
   ]
  },
  {
   "cell_type": "code",
   "execution_count": 45,
   "metadata": {
    "ExecuteTime": {
     "end_time": "2019-12-27T06:08:19.165829Z",
     "start_time": "2019-12-27T06:08:19.149162Z"
    }
   },
   "outputs": [],
   "source": [
    "with open('trump_n_artitone.pkl','rb') as f:\n",
    "    trump_n_at = pickle.load(f)\n",
    "with open('clinton_n_artitone.pkl','rb') as f:\n",
    "    clinton_n_at = pickle.load(f)\n",
    "with open('stein_n_artitone.pkl','rb') as f:\n",
    "    stein_n_at = pickle.load(f)\n",
    "with open('johnson_n_artitone.pkl','rb') as f:\n",
    "    johnson_n_at = pickle.load(f)\n",
    "artitones = {'Donald Trump':trump_n_at, 'Hillary Clinton':clinton_n_at,\n",
    "             'Jill Stein':stein_n_at, 'Gary Johnson': johnson_n_at}\n",
    "\n",
    "    \n",
    "with open('trump_n_menttone.pkl','rb') as f:\n",
    "    trump_n_mt = pickle.load(f)\n",
    "with open('clinton_n_menttone.pkl','rb') as f:\n",
    "    clinton_n_mt = pickle.load(f)\n",
    "with open('stein_n_menttone.pkl','rb') as f:\n",
    "    stein_n_mt = pickle.load(f)\n",
    "with open('johnson_n_menttone.pkl','rb') as f:\n",
    "    johnson_n_mt = pickle.load(f)\n",
    "menttones = {'Donald Trump':trump_n_mt, 'Hillary Clinton':clinton_n_mt,\n",
    "             'Jill Stein':stein_n_mt, 'Gary Johnson': johnson_n_mt}"
   ]
  },
  {
   "cell_type": "code",
   "execution_count": 46,
   "metadata": {
    "ExecuteTime": {
     "end_time": "2019-12-27T06:08:19.604586Z",
     "start_time": "2019-12-27T06:08:19.301335Z"
    }
   },
   "outputs": [
    {
     "data": {
      "image/png": "[encoded data removed]",
      "text/plain": [
       "<Figure size 1080x144 with 1 Axes>"
      ]
     },
     "metadata": {
      "needs_background": "light"
     },
     "output_type": "display_data"
    },
    {
     "data": {
      "image/png": "[encoded data removed]",
      "text/plain": [
       "<Figure size 1080x144 with 1 Axes>"
      ]
     },
     "metadata": {
      "needs_background": "light"
     },
     "output_type": "display_data"
    }
   ],
   "source": [
    "fig, ax = plt.subplots(figsize=(15,2))\n",
    "plt.title('Daily number of articles with tone per candidate')\n",
    "plt.ylabel('Number of articles*tone (100k)')\n",
    "plt.xlabel('Date')\n",
    "plt.plot(trump_n_at.values/100000, label = 'Trump', color = 'r', lw = 1)\n",
    "plt.plot(clinton_n_at.values/100000, label = 'Clinton', color = 'b', lw = 1)\n",
    "plt.xticks(np.linspace(0,365,13)[:-1], ('Jan', 'Feb','Mar','Apr','May','June','Jul','Aug','Sep','Oct', 'Nov', 'Dec'))\n",
    "plt.legend()\n",
    "plt.show()\n",
    "\n",
    "fig, ax = plt.subplots(figsize=(15,2))\n",
    "plt.title('Daily number of articles with tone per candidate')\n",
    "plt.ylabel('Number of mentions*tone (100k)')\n",
    "plt.xlabel('Date')\n",
    "plt.plot(trump_n_mt.values/100000, label = 'Trump', color = 'r', lw = 1)\n",
    "plt.plot(clinton_n_mt.values/100000, label = 'Clinton', color = 'b', lw = 1)\n",
    "plt.xticks(np.linspace(0,365,13)[:-1], ('Jan', 'Feb','Mar','Apr','May','June','Jul','Aug','Sep','Oct', 'Nov', 'Dec'))\n",
    "plt.legend()\n",
    "plt.show()"
   ]
  },
  {
   "cell_type": "markdown",
   "metadata": {},
   "source": [
    "Weighting both the number of articles and mentions by their tone failed to reveal a major difference in the time series for the two as they are still very similar with one another. Interestingly, almost all the values are overwhelmingly negative for majority of the time span covered."
   ]
  },
  {
   "cell_type": "markdown",
   "metadata": {},
   "source": [
    "### Nationwide Opinion Polling"
   ]
  },
  {
   "cell_type": "markdown",
   "metadata": {},
   "source": [
    "Various organizations conduct nationwide opinion polling in the United States to gauge how well each candidate is performing during the campaign period. These results are reported by these organizations through their own channels. For this study, the results of these polls are aggregated in the Wikipedia Page entitled “Nationwide opinion polling for the 2016 United States presidential election” and is where the polling data for this study has been sourced. The results of each poll were attributed to the start of each polling period conducted by that organization. These polls are used as training data for the model leading up to the final election results.\n",
    "\n",
    "This data was retrieved from the site as of December 1, 2019 and placed into a spreadsheet."
   ]
  },
  {
   "cell_type": "code",
   "execution_count": 50,
   "metadata": {
    "ExecuteTime": {
     "end_time": "2019-12-27T06:09:29.230008Z",
     "start_time": "2019-12-27T06:09:29.080323Z"
    }
   },
   "outputs": [],
   "source": [
    "df_poll = pd.read_excel('poll_data_edit.xlsx', sheet_name='Four-way error')"
   ]
  },
  {
   "cell_type": "code",
   "execution_count": 51,
   "metadata": {
    "ExecuteTime": {
     "end_time": "2019-12-27T06:09:29.293841Z",
     "start_time": "2019-12-27T06:09:29.266332Z"
    }
   },
   "outputs": [
    {
     "data": {
      "text/html": [
       "<div>\n",
       "<style scoped>\n",
       "    .dataframe tbody tr th:only-of-type {\n",
       "        vertical-align: middle;\n",
       "    }\n",
       "\n",
       "    .dataframe tbody tr th {\n",
       "        vertical-align: top;\n",
       "    }\n",
       "\n",
       "    .dataframe thead th {\n",
       "        text-align: right;\n",
       "    }\n",
       "</style>\n",
       "<table border=\"1\" class=\"dataframe\">\n",
       "  <thead>\n",
       "    <tr style=\"text-align: right;\">\n",
       "      <th></th>\n",
       "      <th>Poll Source</th>\n",
       "      <th>Date</th>\n",
       "      <th>Hillary Clinton</th>\n",
       "      <th>Donald Trump</th>\n",
       "      <th>Gary Johnson</th>\n",
       "      <th>Jill Stein</th>\n",
       "      <th>Leading By (Points)</th>\n",
       "      <th>Sample size</th>\n",
       "      <th>Margin of error</th>\n",
       "    </tr>\n",
       "  </thead>\n",
       "  <tbody>\n",
       "    <tr>\n",
       "      <td>0</td>\n",
       "      <td>YouGov/The Economist[5]</td>\n",
       "      <td>20191104</td>\n",
       "      <td>0.45</td>\n",
       "      <td>0.41</td>\n",
       "      <td>0.05</td>\n",
       "      <td>0.02</td>\n",
       "      <td>4</td>\n",
       "      <td>3677.0</td>\n",
       "      <td>± 1.7%</td>\n",
       "    </tr>\n",
       "    <tr>\n",
       "      <td>1</td>\n",
       "      <td>Insights West[561]</td>\n",
       "      <td>20191104</td>\n",
       "      <td>0.49</td>\n",
       "      <td>0.45</td>\n",
       "      <td>0.04</td>\n",
       "      <td>0.01</td>\n",
       "      <td>4</td>\n",
       "      <td>940.0</td>\n",
       "      <td>± 3.2%</td>\n",
       "    </tr>\n",
       "    <tr>\n",
       "      <td>2</td>\n",
       "      <td>Bloomberg News/Selzer[6]</td>\n",
       "      <td>20191104</td>\n",
       "      <td>0.44</td>\n",
       "      <td>0.41</td>\n",
       "      <td>0.04</td>\n",
       "      <td>0.02</td>\n",
       "      <td>3</td>\n",
       "      <td>799.0</td>\n",
       "      <td>± 3.5%</td>\n",
       "    </tr>\n",
       "    <tr>\n",
       "      <td>3</td>\n",
       "      <td>Gravis Marketing[562]</td>\n",
       "      <td>20191103</td>\n",
       "      <td>0.47</td>\n",
       "      <td>0.43</td>\n",
       "      <td>0.03</td>\n",
       "      <td>0.02</td>\n",
       "      <td>4</td>\n",
       "      <td>16639.0</td>\n",
       "      <td>± 0.8%</td>\n",
       "    </tr>\n",
       "    <tr>\n",
       "      <td>4</td>\n",
       "      <td>ABC News/Washington Post[7]</td>\n",
       "      <td>20191103</td>\n",
       "      <td>0.47</td>\n",
       "      <td>0.43</td>\n",
       "      <td>0.04</td>\n",
       "      <td>0.01</td>\n",
       "      <td>4</td>\n",
       "      <td>2220.0</td>\n",
       "      <td>± 2.5%</td>\n",
       "    </tr>\n",
       "  </tbody>\n",
       "</table>\n",
       "</div>"
      ],
      "text/plain": [
       "                   Poll Source      Date  Hillary Clinton  Donald Trump  \\\n",
       "0      YouGov/The Economist[5]  20191104             0.45          0.41   \n",
       "1           Insights West[561]  20191104             0.49          0.45   \n",
       "2     Bloomberg News/Selzer[6]  20191104             0.44          0.41   \n",
       "3        Gravis Marketing[562]  20191103             0.47          0.43   \n",
       "4  ABC News/Washington Post[7]  20191103             0.47          0.43   \n",
       "\n",
       "   Gary Johnson  Jill Stein Leading By (Points)  Sample size Margin of error  \n",
       "0          0.05        0.02                   4       3677.0          ± 1.7%  \n",
       "1          0.04        0.01                   4        940.0          ± 3.2%  \n",
       "2          0.04        0.02                   3        799.0          ± 3.5%  \n",
       "3          0.03        0.02                   4      16639.0          ± 0.8%  \n",
       "4          0.04        0.01                   4       2220.0          ± 2.5%  "
      ]
     },
     "execution_count": 51,
     "metadata": {},
     "output_type": "execute_result"
    }
   ],
   "source": [
    "df_poll.head()"
   ]
  },
  {
   "cell_type": "markdown",
   "metadata": {},
   "source": [
    "An encoding error converted all the years to 2019 when in fact they pertain to the 2016 election. This is resolved."
   ]
  },
  {
   "cell_type": "code",
   "execution_count": 52,
   "metadata": {
    "ExecuteTime": {
     "end_time": "2019-12-27T06:09:29.550756Z",
     "start_time": "2019-12-27T06:09:29.536229Z"
    }
   },
   "outputs": [],
   "source": [
    "df_poll['Date'] = df_poll['Date'].astype(str)\n",
    "df_poll['Date'] = df_poll['Date'].str.replace('2019','2016')\n",
    "df_poll['Date'] = df_poll['Date'].astype(int)"
   ]
  },
  {
   "cell_type": "code",
   "execution_count": 53,
   "metadata": {
    "ExecuteTime": {
     "end_time": "2019-12-27T06:09:29.699173Z",
     "start_time": "2019-12-27T06:09:29.675871Z"
    }
   },
   "outputs": [
    {
     "data": {
      "text/html": [
       "<div>\n",
       "<style scoped>\n",
       "    .dataframe tbody tr th:only-of-type {\n",
       "        vertical-align: middle;\n",
       "    }\n",
       "\n",
       "    .dataframe tbody tr th {\n",
       "        vertical-align: top;\n",
       "    }\n",
       "\n",
       "    .dataframe thead th {\n",
       "        text-align: right;\n",
       "    }\n",
       "</style>\n",
       "<table border=\"1\" class=\"dataframe\">\n",
       "  <thead>\n",
       "    <tr style=\"text-align: right;\">\n",
       "      <th></th>\n",
       "      <th>Poll Source</th>\n",
       "      <th>Date</th>\n",
       "      <th>Hillary Clinton</th>\n",
       "      <th>Donald Trump</th>\n",
       "      <th>Gary Johnson</th>\n",
       "      <th>Jill Stein</th>\n",
       "      <th>Leading By (Points)</th>\n",
       "      <th>Sample size</th>\n",
       "      <th>Margin of error</th>\n",
       "    </tr>\n",
       "  </thead>\n",
       "  <tbody>\n",
       "    <tr>\n",
       "      <td>0</td>\n",
       "      <td>YouGov/The Economist[5]</td>\n",
       "      <td>20161104</td>\n",
       "      <td>0.45</td>\n",
       "      <td>0.41</td>\n",
       "      <td>0.05</td>\n",
       "      <td>0.02</td>\n",
       "      <td>4</td>\n",
       "      <td>3677.0</td>\n",
       "      <td>± 1.7%</td>\n",
       "    </tr>\n",
       "    <tr>\n",
       "      <td>1</td>\n",
       "      <td>Insights West[561]</td>\n",
       "      <td>20161104</td>\n",
       "      <td>0.49</td>\n",
       "      <td>0.45</td>\n",
       "      <td>0.04</td>\n",
       "      <td>0.01</td>\n",
       "      <td>4</td>\n",
       "      <td>940.0</td>\n",
       "      <td>± 3.2%</td>\n",
       "    </tr>\n",
       "    <tr>\n",
       "      <td>2</td>\n",
       "      <td>Bloomberg News/Selzer[6]</td>\n",
       "      <td>20161104</td>\n",
       "      <td>0.44</td>\n",
       "      <td>0.41</td>\n",
       "      <td>0.04</td>\n",
       "      <td>0.02</td>\n",
       "      <td>3</td>\n",
       "      <td>799.0</td>\n",
       "      <td>± 3.5%</td>\n",
       "    </tr>\n",
       "    <tr>\n",
       "      <td>3</td>\n",
       "      <td>Gravis Marketing[562]</td>\n",
       "      <td>20161103</td>\n",
       "      <td>0.47</td>\n",
       "      <td>0.43</td>\n",
       "      <td>0.03</td>\n",
       "      <td>0.02</td>\n",
       "      <td>4</td>\n",
       "      <td>16639.0</td>\n",
       "      <td>± 0.8%</td>\n",
       "    </tr>\n",
       "    <tr>\n",
       "      <td>4</td>\n",
       "      <td>ABC News/Washington Post[7]</td>\n",
       "      <td>20161103</td>\n",
       "      <td>0.47</td>\n",
       "      <td>0.43</td>\n",
       "      <td>0.04</td>\n",
       "      <td>0.01</td>\n",
       "      <td>4</td>\n",
       "      <td>2220.0</td>\n",
       "      <td>± 2.5%</td>\n",
       "    </tr>\n",
       "  </tbody>\n",
       "</table>\n",
       "</div>"
      ],
      "text/plain": [
       "                   Poll Source      Date  Hillary Clinton  Donald Trump  \\\n",
       "0      YouGov/The Economist[5]  20161104             0.45          0.41   \n",
       "1           Insights West[561]  20161104             0.49          0.45   \n",
       "2     Bloomberg News/Selzer[6]  20161104             0.44          0.41   \n",
       "3        Gravis Marketing[562]  20161103             0.47          0.43   \n",
       "4  ABC News/Washington Post[7]  20161103             0.47          0.43   \n",
       "\n",
       "   Gary Johnson  Jill Stein Leading By (Points)  Sample size Margin of error  \n",
       "0          0.05        0.02                   4       3677.0          ± 1.7%  \n",
       "1          0.04        0.01                   4        940.0          ± 3.2%  \n",
       "2          0.04        0.02                   3        799.0          ± 3.5%  \n",
       "3          0.03        0.02                   4      16639.0          ± 0.8%  \n",
       "4          0.04        0.01                   4       2220.0          ± 2.5%  "
      ]
     },
     "execution_count": 53,
     "metadata": {},
     "output_type": "execute_result"
    }
   ],
   "source": [
    "df_poll.head()"
   ]
  },
  {
   "cell_type": "markdown",
   "metadata": {},
   "source": [
    "Values for each candidate represent the percentage of those surveyed that said they would vote for said candidate."
   ]
  },
  {
   "cell_type": "markdown",
   "metadata": {},
   "source": [
    "###  Time Series Slicing"
   ]
  },
  {
   "cell_type": "markdown",
   "metadata": {},
   "source": [
    "Under the assumption that recent news activity has a relationship with the favorability of candidates, news measurements (`number of articles` and `number of mentions`) per candidate during the campaign period were looked at. \n",
    "\n",
    "Indices of the time series are harmonized to be all integers for easier slicing of the data."
   ]
  },
  {
   "cell_type": "code",
   "execution_count": 54,
   "metadata": {
    "ExecuteTime": {
     "end_time": "2019-12-27T06:09:29.869803Z",
     "start_time": "2019-12-27T06:09:29.844169Z"
    }
   },
   "outputs": [],
   "source": [
    "johnson_n_m.index = [int(x) for x in johnson_n_m.index]\n",
    "trump_n_m.index = [int(x) for x in trump_n_m.index]\n",
    "clinton_n_m.index = [int(x) for x in clinton_n_m.index]\n",
    "stein_n_m.index = [int(x) for x in stein_n_m.index]\n",
    "\n",
    "johnson_n_a.index = [int(x) for x in johnson_n_a.index]\n",
    "trump_n_a.index = [int(x) for x in trump_n_a.index]\n",
    "clinton_n_a.index = [int(x) for x in clinton_n_a.index]\n",
    "stein_n_a.index = [int(x) for x in stein_n_a.index]\n",
    "\n",
    "johnson_n_mt.index = [int(x) for x in johnson_n_mt.index]\n",
    "trump_n_mt.index = [int(x) for x in trump_n_mt.index]\n",
    "clinton_n_mt.index = [int(x) for x in clinton_n_mt.index]\n",
    "stein_n_mt.index = [int(x) for x in stein_n_mt.index]\n",
    "\n",
    "johnson_n_at.index = [int(x) for x in johnson_n_at.index]\n",
    "trump_n_at.index = [int(x) for x in trump_n_at.index]\n",
    "clinton_n_at.index = [int(x) for x in clinton_n_at.index]\n",
    "stein_n_at.index = [int(x) for x in stein_n_at.index]"
   ]
  },
  {
   "cell_type": "markdown",
   "metadata": {},
   "source": [
    "A separate indexing is used for the dates for use in slicing the time series."
   ]
  },
  {
   "cell_type": "code",
   "execution_count": 55,
   "metadata": {
    "ExecuteTime": {
     "end_time": "2019-12-27T06:09:30.241543Z",
     "start_time": "2019-12-27T06:09:30.236046Z"
    }
   },
   "outputs": [],
   "source": [
    "date_indices = list(johnson_n_m.index)"
   ]
  },
  {
   "cell_type": "markdown",
   "metadata": {},
   "source": [
    "We define a helper function that takes in the name of a candidate, the type of data needed required of them, and the number of days prior to a polling period to take as input."
   ]
  },
  {
   "cell_type": "code",
   "execution_count": 58,
   "metadata": {
    "ExecuteTime": {
     "end_time": "2019-12-27T07:43:48.211249Z",
     "start_time": "2019-12-27T07:43:48.193784Z"
    }
   },
   "outputs": [],
   "source": [
    "def person_df(name, ser = 'mentions', time_span = 21):\n",
    "    polls_time = {}\n",
    "    if ser == 'mentions':\n",
    "        n_m = mentions[name]\n",
    "    if ser == 'articles':\n",
    "        n_m = articles[name]\n",
    "    if ser == 'artitones':\n",
    "        n_m = artitones[name]\n",
    "    if ser == 'menttones':\n",
    "        n_m = menttones[name]\n",
    "    for i in range(len(df_poll)):\n",
    "        poll_index = str(i) +'-'+ str(df_poll.loc[i]['Date'])\n",
    "        date_index = date_indices.index(df_poll.loc[i]['Date'])\n",
    "        thing = []\n",
    "        for j in range(date_index-time_span, date_index):\n",
    "            thing.append(n_m[date_indices[j]])\n",
    "        thing.append(df_poll.loc[i][name])\n",
    "        polls_time[poll_index] = thing\n",
    "    df_name = pd.DataFrame(polls_time).T\n",
    "    df_name.columns = list(range(time_span)) + ['target']\n",
    "    return(df_name)"
   ]
  },
  {
   "cell_type": "markdown",
   "metadata": {},
   "source": [
    "The resulting dataframe has rows equal to the number of nationwide opinion polls and columns equal to the number of days prior to each. Additionally, a `target` column is included which contains the poll target which is the result of the poll for that presidential candidate."
   ]
  },
  {
   "cell_type": "code",
   "execution_count": 67,
   "metadata": {
    "ExecuteTime": {
     "end_time": "2019-12-27T07:47:46.193941Z",
     "start_time": "2019-12-27T07:47:45.949034Z"
    }
   },
   "outputs": [
    {
     "name": "stdout",
     "output_type": "stream",
     "text": [
      "(274, 22)\n"
     ]
    },
    {
     "data": {
      "text/html": [
       "<div>\n",
       "<style scoped>\n",
       "    .dataframe tbody tr th:only-of-type {\n",
       "        vertical-align: middle;\n",
       "    }\n",
       "\n",
       "    .dataframe tbody tr th {\n",
       "        vertical-align: top;\n",
       "    }\n",
       "\n",
       "    .dataframe thead th {\n",
       "        text-align: right;\n",
       "    }\n",
       "</style>\n",
       "<table border=\"1\" class=\"dataframe\">\n",
       "  <thead>\n",
       "    <tr style=\"text-align: right;\">\n",
       "      <th></th>\n",
       "      <th>0</th>\n",
       "      <th>1</th>\n",
       "      <th>2</th>\n",
       "      <th>3</th>\n",
       "      <th>4</th>\n",
       "      <th>5</th>\n",
       "      <th>6</th>\n",
       "      <th>7</th>\n",
       "      <th>8</th>\n",
       "      <th>9</th>\n",
       "      <th>...</th>\n",
       "      <th>12</th>\n",
       "      <th>13</th>\n",
       "      <th>14</th>\n",
       "      <th>15</th>\n",
       "      <th>16</th>\n",
       "      <th>17</th>\n",
       "      <th>18</th>\n",
       "      <th>19</th>\n",
       "      <th>20</th>\n",
       "      <th>target</th>\n",
       "    </tr>\n",
       "  </thead>\n",
       "  <tbody>\n",
       "    <tr>\n",
       "      <td>0-20161104</td>\n",
       "      <td>234529.0</td>\n",
       "      <td>80112.0</td>\n",
       "      <td>64313.0</td>\n",
       "      <td>82642.0</td>\n",
       "      <td>130800.0</td>\n",
       "      <td>139933.0</td>\n",
       "      <td>159503.0</td>\n",
       "      <td>113834.0</td>\n",
       "      <td>61339.0</td>\n",
       "      <td>57828.0</td>\n",
       "      <td>...</td>\n",
       "      <td>82606.0</td>\n",
       "      <td>89409.0</td>\n",
       "      <td>85968.0</td>\n",
       "      <td>37763.0</td>\n",
       "      <td>36828.0</td>\n",
       "      <td>64673.0</td>\n",
       "      <td>92454.0</td>\n",
       "      <td>99912.0</td>\n",
       "      <td>121350.0</td>\n",
       "      <td>0.41</td>\n",
       "    </tr>\n",
       "    <tr>\n",
       "      <td>1-20161104</td>\n",
       "      <td>234529.0</td>\n",
       "      <td>80112.0</td>\n",
       "      <td>64313.0</td>\n",
       "      <td>82642.0</td>\n",
       "      <td>130800.0</td>\n",
       "      <td>139933.0</td>\n",
       "      <td>159503.0</td>\n",
       "      <td>113834.0</td>\n",
       "      <td>61339.0</td>\n",
       "      <td>57828.0</td>\n",
       "      <td>...</td>\n",
       "      <td>82606.0</td>\n",
       "      <td>89409.0</td>\n",
       "      <td>85968.0</td>\n",
       "      <td>37763.0</td>\n",
       "      <td>36828.0</td>\n",
       "      <td>64673.0</td>\n",
       "      <td>92454.0</td>\n",
       "      <td>99912.0</td>\n",
       "      <td>121350.0</td>\n",
       "      <td>0.45</td>\n",
       "    </tr>\n",
       "    <tr>\n",
       "      <td>2-20161104</td>\n",
       "      <td>234529.0</td>\n",
       "      <td>80112.0</td>\n",
       "      <td>64313.0</td>\n",
       "      <td>82642.0</td>\n",
       "      <td>130800.0</td>\n",
       "      <td>139933.0</td>\n",
       "      <td>159503.0</td>\n",
       "      <td>113834.0</td>\n",
       "      <td>61339.0</td>\n",
       "      <td>57828.0</td>\n",
       "      <td>...</td>\n",
       "      <td>82606.0</td>\n",
       "      <td>89409.0</td>\n",
       "      <td>85968.0</td>\n",
       "      <td>37763.0</td>\n",
       "      <td>36828.0</td>\n",
       "      <td>64673.0</td>\n",
       "      <td>92454.0</td>\n",
       "      <td>99912.0</td>\n",
       "      <td>121350.0</td>\n",
       "      <td>0.41</td>\n",
       "    </tr>\n",
       "    <tr>\n",
       "      <td>3-20161103</td>\n",
       "      <td>210238.0</td>\n",
       "      <td>234529.0</td>\n",
       "      <td>80112.0</td>\n",
       "      <td>64313.0</td>\n",
       "      <td>82642.0</td>\n",
       "      <td>130800.0</td>\n",
       "      <td>139933.0</td>\n",
       "      <td>159503.0</td>\n",
       "      <td>113834.0</td>\n",
       "      <td>61339.0</td>\n",
       "      <td>...</td>\n",
       "      <td>83391.0</td>\n",
       "      <td>82606.0</td>\n",
       "      <td>89409.0</td>\n",
       "      <td>85968.0</td>\n",
       "      <td>37763.0</td>\n",
       "      <td>36828.0</td>\n",
       "      <td>64673.0</td>\n",
       "      <td>92454.0</td>\n",
       "      <td>99912.0</td>\n",
       "      <td>0.43</td>\n",
       "    </tr>\n",
       "    <tr>\n",
       "      <td>4-20161103</td>\n",
       "      <td>210238.0</td>\n",
       "      <td>234529.0</td>\n",
       "      <td>80112.0</td>\n",
       "      <td>64313.0</td>\n",
       "      <td>82642.0</td>\n",
       "      <td>130800.0</td>\n",
       "      <td>139933.0</td>\n",
       "      <td>159503.0</td>\n",
       "      <td>113834.0</td>\n",
       "      <td>61339.0</td>\n",
       "      <td>...</td>\n",
       "      <td>83391.0</td>\n",
       "      <td>82606.0</td>\n",
       "      <td>89409.0</td>\n",
       "      <td>85968.0</td>\n",
       "      <td>37763.0</td>\n",
       "      <td>36828.0</td>\n",
       "      <td>64673.0</td>\n",
       "      <td>92454.0</td>\n",
       "      <td>99912.0</td>\n",
       "      <td>0.43</td>\n",
       "    </tr>\n",
       "  </tbody>\n",
       "</table>\n",
       "<p>5 rows × 22 columns</p>\n",
       "</div>"
      ],
      "text/plain": [
       "                   0         1        2        3         4         5  \\\n",
       "0-20161104  234529.0   80112.0  64313.0  82642.0  130800.0  139933.0   \n",
       "1-20161104  234529.0   80112.0  64313.0  82642.0  130800.0  139933.0   \n",
       "2-20161104  234529.0   80112.0  64313.0  82642.0  130800.0  139933.0   \n",
       "3-20161103  210238.0  234529.0  80112.0  64313.0   82642.0  130800.0   \n",
       "4-20161103  210238.0  234529.0  80112.0  64313.0   82642.0  130800.0   \n",
       "\n",
       "                   6         7         8        9  ...       12       13  \\\n",
       "0-20161104  159503.0  113834.0   61339.0  57828.0  ...  82606.0  89409.0   \n",
       "1-20161104  159503.0  113834.0   61339.0  57828.0  ...  82606.0  89409.0   \n",
       "2-20161104  159503.0  113834.0   61339.0  57828.0  ...  82606.0  89409.0   \n",
       "3-20161103  139933.0  159503.0  113834.0  61339.0  ...  83391.0  82606.0   \n",
       "4-20161103  139933.0  159503.0  113834.0  61339.0  ...  83391.0  82606.0   \n",
       "\n",
       "                 14       15       16       17       18       19        20  \\\n",
       "0-20161104  85968.0  37763.0  36828.0  64673.0  92454.0  99912.0  121350.0   \n",
       "1-20161104  85968.0  37763.0  36828.0  64673.0  92454.0  99912.0  121350.0   \n",
       "2-20161104  85968.0  37763.0  36828.0  64673.0  92454.0  99912.0  121350.0   \n",
       "3-20161103  89409.0  85968.0  37763.0  36828.0  64673.0  92454.0   99912.0   \n",
       "4-20161103  89409.0  85968.0  37763.0  36828.0  64673.0  92454.0   99912.0   \n",
       "\n",
       "            target  \n",
       "0-20161104    0.41  \n",
       "1-20161104    0.45  \n",
       "2-20161104    0.41  \n",
       "3-20161103    0.43  \n",
       "4-20161103    0.43  \n",
       "\n",
       "[5 rows x 22 columns]"
      ]
     },
     "execution_count": 67,
     "metadata": {},
     "output_type": "execute_result"
    }
   ],
   "source": [
    "trump_df = person_df('Donald Trump', time_span = t_span, ser ='articles')\n",
    "print(trump_df.shape)\n",
    "trump_df.head()"
   ]
  },
  {
   "cell_type": "markdown",
   "metadata": {},
   "source": [
    "A dataframe containing all the candidates is constructed."
   ]
  },
  {
   "cell_type": "code",
   "execution_count": 60,
   "metadata": {
    "ExecuteTime": {
     "end_time": "2019-12-27T07:44:02.467740Z",
     "start_time": "2019-12-27T07:44:01.602262Z"
    }
   },
   "outputs": [],
   "source": [
    "t_span = 21\n",
    "alls = pd.concat([person_df(x, time_span = t_span, ser ='articles') for x in\n",
    "                  ['Hillary Clinton','Donald Trump',\n",
    "                   'Gary Johnson','Jill Stein']])\n",
    "X = alls[list(range(t_span))]\n",
    "y = alls['target']"
   ]
  },
  {
   "cell_type": "code",
   "execution_count": 64,
   "metadata": {
    "ExecuteTime": {
     "end_time": "2019-12-27T07:44:52.051924Z",
     "start_time": "2019-12-27T07:44:52.010656Z"
    }
   },
   "outputs": [
    {
     "name": "stdout",
     "output_type": "stream",
     "text": [
      "(1096, 22)\n"
     ]
    },
    {
     "data": {
      "text/html": [
       "<div>\n",
       "<style scoped>\n",
       "    .dataframe tbody tr th:only-of-type {\n",
       "        vertical-align: middle;\n",
       "    }\n",
       "\n",
       "    .dataframe tbody tr th {\n",
       "        vertical-align: top;\n",
       "    }\n",
       "\n",
       "    .dataframe thead th {\n",
       "        text-align: right;\n",
       "    }\n",
       "</style>\n",
       "<table border=\"1\" class=\"dataframe\">\n",
       "  <thead>\n",
       "    <tr style=\"text-align: right;\">\n",
       "      <th></th>\n",
       "      <th>0</th>\n",
       "      <th>1</th>\n",
       "      <th>2</th>\n",
       "      <th>3</th>\n",
       "      <th>4</th>\n",
       "      <th>5</th>\n",
       "      <th>6</th>\n",
       "      <th>7</th>\n",
       "      <th>8</th>\n",
       "      <th>9</th>\n",
       "      <th>...</th>\n",
       "      <th>12</th>\n",
       "      <th>13</th>\n",
       "      <th>14</th>\n",
       "      <th>15</th>\n",
       "      <th>16</th>\n",
       "      <th>17</th>\n",
       "      <th>18</th>\n",
       "      <th>19</th>\n",
       "      <th>20</th>\n",
       "      <th>target</th>\n",
       "    </tr>\n",
       "  </thead>\n",
       "  <tbody>\n",
       "    <tr>\n",
       "      <td>0-20161104</td>\n",
       "      <td>60999.0</td>\n",
       "      <td>27587.0</td>\n",
       "      <td>20834.0</td>\n",
       "      <td>46526.0</td>\n",
       "      <td>64741.0</td>\n",
       "      <td>64735.0</td>\n",
       "      <td>69354.0</td>\n",
       "      <td>54654.0</td>\n",
       "      <td>47333.0</td>\n",
       "      <td>48664.0</td>\n",
       "      <td>...</td>\n",
       "      <td>46978.0</td>\n",
       "      <td>72124.0</td>\n",
       "      <td>85191.0</td>\n",
       "      <td>169281.0</td>\n",
       "      <td>73065.0</td>\n",
       "      <td>121681.0</td>\n",
       "      <td>111940.0</td>\n",
       "      <td>94286.0</td>\n",
       "      <td>78252.0</td>\n",
       "      <td>0.45</td>\n",
       "    </tr>\n",
       "    <tr>\n",
       "      <td>1-20161104</td>\n",
       "      <td>60999.0</td>\n",
       "      <td>27587.0</td>\n",
       "      <td>20834.0</td>\n",
       "      <td>46526.0</td>\n",
       "      <td>64741.0</td>\n",
       "      <td>64735.0</td>\n",
       "      <td>69354.0</td>\n",
       "      <td>54654.0</td>\n",
       "      <td>47333.0</td>\n",
       "      <td>48664.0</td>\n",
       "      <td>...</td>\n",
       "      <td>46978.0</td>\n",
       "      <td>72124.0</td>\n",
       "      <td>85191.0</td>\n",
       "      <td>169281.0</td>\n",
       "      <td>73065.0</td>\n",
       "      <td>121681.0</td>\n",
       "      <td>111940.0</td>\n",
       "      <td>94286.0</td>\n",
       "      <td>78252.0</td>\n",
       "      <td>0.49</td>\n",
       "    </tr>\n",
       "    <tr>\n",
       "      <td>2-20161104</td>\n",
       "      <td>60999.0</td>\n",
       "      <td>27587.0</td>\n",
       "      <td>20834.0</td>\n",
       "      <td>46526.0</td>\n",
       "      <td>64741.0</td>\n",
       "      <td>64735.0</td>\n",
       "      <td>69354.0</td>\n",
       "      <td>54654.0</td>\n",
       "      <td>47333.0</td>\n",
       "      <td>48664.0</td>\n",
       "      <td>...</td>\n",
       "      <td>46978.0</td>\n",
       "      <td>72124.0</td>\n",
       "      <td>85191.0</td>\n",
       "      <td>169281.0</td>\n",
       "      <td>73065.0</td>\n",
       "      <td>121681.0</td>\n",
       "      <td>111940.0</td>\n",
       "      <td>94286.0</td>\n",
       "      <td>78252.0</td>\n",
       "      <td>0.44</td>\n",
       "    </tr>\n",
       "    <tr>\n",
       "      <td>3-20161103</td>\n",
       "      <td>85973.0</td>\n",
       "      <td>60999.0</td>\n",
       "      <td>27587.0</td>\n",
       "      <td>20834.0</td>\n",
       "      <td>46526.0</td>\n",
       "      <td>64741.0</td>\n",
       "      <td>64735.0</td>\n",
       "      <td>69354.0</td>\n",
       "      <td>54654.0</td>\n",
       "      <td>47333.0</td>\n",
       "      <td>...</td>\n",
       "      <td>72722.0</td>\n",
       "      <td>46978.0</td>\n",
       "      <td>72124.0</td>\n",
       "      <td>85191.0</td>\n",
       "      <td>169281.0</td>\n",
       "      <td>73065.0</td>\n",
       "      <td>121681.0</td>\n",
       "      <td>111940.0</td>\n",
       "      <td>94286.0</td>\n",
       "      <td>0.47</td>\n",
       "    </tr>\n",
       "    <tr>\n",
       "      <td>4-20161103</td>\n",
       "      <td>85973.0</td>\n",
       "      <td>60999.0</td>\n",
       "      <td>27587.0</td>\n",
       "      <td>20834.0</td>\n",
       "      <td>46526.0</td>\n",
       "      <td>64741.0</td>\n",
       "      <td>64735.0</td>\n",
       "      <td>69354.0</td>\n",
       "      <td>54654.0</td>\n",
       "      <td>47333.0</td>\n",
       "      <td>...</td>\n",
       "      <td>72722.0</td>\n",
       "      <td>46978.0</td>\n",
       "      <td>72124.0</td>\n",
       "      <td>85191.0</td>\n",
       "      <td>169281.0</td>\n",
       "      <td>73065.0</td>\n",
       "      <td>121681.0</td>\n",
       "      <td>111940.0</td>\n",
       "      <td>94286.0</td>\n",
       "      <td>0.47</td>\n",
       "    </tr>\n",
       "  </tbody>\n",
       "</table>\n",
       "<p>5 rows × 22 columns</p>\n",
       "</div>"
      ],
      "text/plain": [
       "                  0        1        2        3        4        5        6  \\\n",
       "0-20161104  60999.0  27587.0  20834.0  46526.0  64741.0  64735.0  69354.0   \n",
       "1-20161104  60999.0  27587.0  20834.0  46526.0  64741.0  64735.0  69354.0   \n",
       "2-20161104  60999.0  27587.0  20834.0  46526.0  64741.0  64735.0  69354.0   \n",
       "3-20161103  85973.0  60999.0  27587.0  20834.0  46526.0  64741.0  64735.0   \n",
       "4-20161103  85973.0  60999.0  27587.0  20834.0  46526.0  64741.0  64735.0   \n",
       "\n",
       "                  7        8        9  ...       12       13       14  \\\n",
       "0-20161104  54654.0  47333.0  48664.0  ...  46978.0  72124.0  85191.0   \n",
       "1-20161104  54654.0  47333.0  48664.0  ...  46978.0  72124.0  85191.0   \n",
       "2-20161104  54654.0  47333.0  48664.0  ...  46978.0  72124.0  85191.0   \n",
       "3-20161103  69354.0  54654.0  47333.0  ...  72722.0  46978.0  72124.0   \n",
       "4-20161103  69354.0  54654.0  47333.0  ...  72722.0  46978.0  72124.0   \n",
       "\n",
       "                  15        16        17        18        19       20  target  \n",
       "0-20161104  169281.0   73065.0  121681.0  111940.0   94286.0  78252.0    0.45  \n",
       "1-20161104  169281.0   73065.0  121681.0  111940.0   94286.0  78252.0    0.49  \n",
       "2-20161104  169281.0   73065.0  121681.0  111940.0   94286.0  78252.0    0.44  \n",
       "3-20161103   85191.0  169281.0   73065.0  121681.0  111940.0  94286.0    0.47  \n",
       "4-20161103   85191.0  169281.0   73065.0  121681.0  111940.0  94286.0    0.47  \n",
       "\n",
       "[5 rows x 22 columns]"
      ]
     },
     "execution_count": 64,
     "metadata": {},
     "output_type": "execute_result"
    }
   ],
   "source": [
    "print(alls.shape)\n",
    "alls.head()"
   ]
  },
  {
   "cell_type": "markdown",
   "metadata": {},
   "source": [
    "## Results and Discussion"
   ]
  },
  {
   "cell_type": "markdown",
   "metadata": {},
   "source": [
    "For training, the features of the dataframe are stored as `X` while their corresponding targets are saved to `Y`. These will be used to generate training and test sets for the models."
   ]
  },
  {
   "cell_type": "code",
   "execution_count": null,
   "metadata": {},
   "outputs": [],
   "source": [
    "t_span = 21 #the number of days prior to a poll used as features\n",
    "X = alls[list(range(t_span))]\n",
    "y = alls['target']"
   ]
  },
  {
   "cell_type": "markdown",
   "metadata": {},
   "source": [
    "A helper function is defined to create a simple artificial neural networks with a specified architecture to predict the results of opinion polls."
   ]
  },
  {
   "cell_type": "code",
   "execution_count": 71,
   "metadata": {
    "ExecuteTime": {
     "end_time": "2019-12-27T08:24:50.309578Z",
     "start_time": "2019-12-27T08:24:50.292556Z"
    }
   },
   "outputs": [],
   "source": [
    "def neural(X, n_layers=4, n_nodes=X.shape[1], kernel='glorot_uniform',\n",
    "           loss='mse', optimizer='adam', epochs=30, bias=True):\n",
    "    model = models.Sequential()\n",
    "    model.add(layers.Dense(\n",
    "        n_nodes, input_dim=X.shape[1], activation='tanh', use_bias=bias))\n",
    "    if n_layers > 1:\n",
    "        for i in range(n_layers):\n",
    "            model.add(layers.Dense(n_nodes, activation='tanh', use_bias=bias))\n",
    "    model.add(layers.Dense(1, activation = 'sigmoid'))\n",
    "    model.compile(loss=loss, optimizer=optimizer, metrics=['mse', 'mae',\n",
    "                                                           'mape', 'cosine'])\n",
    "    model.fit(X, np.array(y_train), epochs=epochs, verbose=0)\n",
    "    y_pred = model.predict(X_test_scaled)\n",
    "    return (model, r2_score(y_test, y_pred),\n",
    "            mean_absolute_error(y_test, y_pred),\n",
    "            mean_squared_error(y_test, y_pred))"
   ]
  },
  {
   "cell_type": "markdown",
   "metadata": {},
   "source": [
    "Variables are initiated to track and store the results of the models."
   ]
  },
  {
   "cell_type": "code",
   "execution_count": 84,
   "metadata": {
    "ExecuteTime": {
     "end_time": "2019-12-27T09:32:40.547043Z",
     "start_time": "2019-12-27T09:32:40.531026Z"
    }
   },
   "outputs": [],
   "source": [
    "d_mods = []\n",
    "\n",
    "all_accs = []\n",
    "all_maes = []\n",
    "all_mses = []\n",
    "\n",
    "acc_ave = 0\n",
    "mae_ave = 0\n",
    "mse_ave = 0"
   ]
  },
  {
   "cell_type": "markdown",
   "metadata": {},
   "source": [
    "Min-Max scaling will be performed on the training set. The scaler will then be used to transform the incoming test features when examining the performance of the model."
   ]
  },
  {
   "cell_type": "code",
   "execution_count": 72,
   "metadata": {
    "ExecuteTime": {
     "end_time": "2019-12-27T08:24:50.939202Z",
     "start_time": "2019-12-27T08:24:50.934009Z"
    }
   },
   "outputs": [],
   "source": [
    "scaler = MinMaxScaler()"
   ]
  },
  {
   "cell_type": "markdown",
   "metadata": {},
   "source": [
    "The training and test sets are divided into with an 80:20 ratio.\n",
    "\n",
    "The results of the training after 100 different realizations of these splits is performed."
   ]
  },
  {
   "cell_type": "code",
   "execution_count": 85,
   "metadata": {
    "ExecuteTime": {
     "end_time": "2019-12-27T10:29:38.224595Z",
     "start_time": "2019-12-27T10:22:13.107291Z"
    },
    "scrolled": true
   },
   "outputs": [
    {
     "name": "stdout",
     "output_type": "stream",
     "text": [
      "99\r"
     ]
    }
   ],
   "source": [
    "ran = 100\n",
    "for q in range(ran):\n",
    "    print(q, end = '\\r')\n",
    "    scaler = MinMaxScaler()\n",
    "    X_train, X_test, y_train, y_test = train_test_split(X, y, test_size = 0.2,\n",
    "                                                        random_state = q)\n",
    "    X_train_scaled = scaler.fit_transform(X_train)\n",
    "    X_test_scaled = scaler.transform(X_test)\n",
    "    mod, acc, mae, mse = neural(X_train_scaled, n_layers = 4)\n",
    "    acc_ave += acc\n",
    "    mae_ave += mae\n",
    "    mse_ave += mse\n",
    "\n",
    "    all_accs.append(acc)\n",
    "    all_maes.append(mae)\n",
    "    all_mses.append(mse)\n",
    "\n",
    "ave_acc = acc_ave/ran\n",
    "ave_mae = mae_ave/ran\n",
    "ave_mse = mse_ave/ran"
   ]
  },
  {
   "cell_type": "markdown",
   "metadata": {},
   "source": [
    "The average goodness of fit is quite high at 97.165 which suggests that the model was able to explain variations in the time series well."
   ]
  },
  {
   "cell_type": "code",
   "execution_count": 97,
   "metadata": {
    "ExecuteTime": {
     "end_time": "2019-12-27T10:34:24.655641Z",
     "start_time": "2019-12-27T10:34:24.647204Z"
    }
   },
   "outputs": [
    {
     "data": {
      "text/plain": [
       "97.165"
      ]
     },
     "execution_count": 97,
     "metadata": {},
     "output_type": "execute_result"
    }
   ],
   "source": [
    "round(100*ave_acc,3)"
   ]
  },
  {
   "cell_type": "markdown",
   "metadata": {},
   "source": [
    "The average MAE is shown to be 2.505 which is lower than some of the margins of error reported by the polls."
   ]
  },
  {
   "cell_type": "code",
   "execution_count": 98,
   "metadata": {
    "ExecuteTime": {
     "end_time": "2019-12-27T10:34:24.935206Z",
     "start_time": "2019-12-27T10:34:24.927125Z"
    }
   },
   "outputs": [
    {
     "data": {
      "text/plain": [
       "2.505"
      ]
     },
     "execution_count": 98,
     "metadata": {},
     "output_type": "execute_result"
    }
   ],
   "source": [
    "round(100*ave_mae,3)"
   ]
  },
  {
   "cell_type": "markdown",
   "metadata": {},
   "source": [
    "A helper function is defined to test the prediction of the model on the election day itself."
   ]
  },
  {
   "cell_type": "code",
   "execution_count": 102,
   "metadata": {
    "ExecuteTime": {
     "end_time": "2019-12-27T10:45:18.174681Z",
     "start_time": "2019-12-27T10:45:18.163955Z"
    }
   },
   "outputs": [],
   "source": [
    "def predictor(model, n_m,  date, time_span):\n",
    "    date_index = date_indices.index(date)\n",
    "    thing = []\n",
    "    for j in range(date_index-time_span, date_index):\n",
    "        thing.append(n_m[date_indices[j]])\n",
    "    thing = scaler.transform(np.array(thing).reshape(1,-1))\n",
    "    return (model.predict(thing))"
   ]
  },
  {
   "cell_type": "code",
   "execution_count": 103,
   "metadata": {
    "ExecuteTime": {
     "end_time": "2019-12-27T10:45:18.420124Z",
     "start_time": "2019-12-27T10:45:18.408643Z"
    }
   },
   "outputs": [
    {
     "name": "stdout",
     "output_type": "stream",
     "text": [
      "Model: \"sequential_201\"\n",
      "_________________________________________________________________\n",
      "Layer (type)                 Output Shape              Param #   \n",
      "=================================================================\n",
      "dense_1201 (Dense)           (None, 21)                462       \n",
      "_________________________________________________________________\n",
      "dense_1202 (Dense)           (None, 21)                462       \n",
      "_________________________________________________________________\n",
      "dense_1203 (Dense)           (None, 21)                462       \n",
      "_________________________________________________________________\n",
      "dense_1204 (Dense)           (None, 21)                462       \n",
      "_________________________________________________________________\n",
      "dense_1205 (Dense)           (None, 21)                462       \n",
      "_________________________________________________________________\n",
      "dense_1206 (Dense)           (None, 1)                 22        \n",
      "=================================================================\n",
      "Total params: 2,332\n",
      "Trainable params: 2,332\n",
      "Non-trainable params: 0\n",
      "_________________________________________________________________\n"
     ]
    }
   ],
   "source": [
    "mod.summary()"
   ]
  },
  {
   "cell_type": "markdown",
   "metadata": {},
   "source": [
    "Based on the results of the 2016 United States Presidential election, we examine the model's predictions per candidate and compare them with the actual results of the election.\n",
    "\n",
    "On the left is the model's prediction on the results on November 8, 2016 and on the right is the actual percentage of voters that voted for each candidate."
   ]
  },
  {
   "cell_type": "code",
   "execution_count": 113,
   "metadata": {
    "ExecuteTime": {
     "end_time": "2019-12-27T10:47:22.996059Z",
     "start_time": "2019-12-27T10:47:22.983265Z"
    }
   },
   "outputs": [
    {
     "data": {
      "text/plain": [
       "(42.46, '48.18%')"
      ]
     },
     "execution_count": 113,
     "metadata": {},
     "output_type": "execute_result"
    }
   ],
   "source": [
    "(round(100*predictor(mod,clinton_n_a, 20161108, 21)[0][0],2), '48.18%')"
   ]
  },
  {
   "cell_type": "code",
   "execution_count": 114,
   "metadata": {
    "ExecuteTime": {
     "end_time": "2019-12-27T10:47:23.500358Z",
     "start_time": "2019-12-27T10:47:23.487813Z"
    }
   },
   "outputs": [
    {
     "data": {
      "text/plain": [
       "(41.74, '46.09%')"
      ]
     },
     "execution_count": 114,
     "metadata": {},
     "output_type": "execute_result"
    }
   ],
   "source": [
    "(round(100*predictor(mod,trump_n_a, 20161108, 21)[0][0],2), '46.09%')"
   ]
  },
  {
   "cell_type": "code",
   "execution_count": 115,
   "metadata": {
    "ExecuteTime": {
     "end_time": "2019-12-27T10:47:23.540625Z",
     "start_time": "2019-12-27T10:47:23.528620Z"
    }
   },
   "outputs": [
    {
     "data": {
      "text/plain": [
       "(4.81, '3.28%')"
      ]
     },
     "execution_count": 115,
     "metadata": {},
     "output_type": "execute_result"
    }
   ],
   "source": [
    "(round(100*predictor(mod,johnson_n_a, 20161108, 21)[0][0],2),'3.28%')"
   ]
  },
  {
   "cell_type": "code",
   "execution_count": 116,
   "metadata": {
    "ExecuteTime": {
     "end_time": "2019-12-27T10:47:23.835669Z",
     "start_time": "2019-12-27T10:47:23.823540Z"
    },
    "scrolled": false
   },
   "outputs": [
    {
     "data": {
      "text/plain": [
       "(4.16, '1.07%')"
      ]
     },
     "execution_count": 116,
     "metadata": {},
     "output_type": "execute_result"
    }
   ],
   "source": [
    "(round(100*predictor(mod,stein_n_a, 20161108, 21)[0][0],2),'1.07%')"
   ]
  },
  {
   "cell_type": "markdown",
   "metadata": {},
   "source": [
    "While the model failed to predict well the actual percentage of voters per candidate, it was still able to capture and predict the final ranking of the candidates. If the United States election were won by a simple popular vote, the model produced by this study would have been able to predict the winner. "
   ]
  },
  {
   "cell_type": "markdown",
   "metadata": {},
   "source": [
    "## Conclusion and Recommendation"
   ]
  },
  {
   "cell_type": "markdown",
   "metadata": {},
   "source": [
    "There is now more data that ever before because of our increasingly interconnected world. The advent of disruptive technologies such as the Internet-of-Things (IoT) and the rise of social media platforms like Twitter and Facebook have led to a massive explosion of data, making it an almost infinite resource. Considered as the new oil, this extremely rich pool of information (more popularly known as Big Data) are now being mined, wrangled, and processed to find answers that can address a suite of business and societal challenges.\n",
    "\n",
    "Predicting election outcomes is one problem that can be solved with data. In this report, we have demonstrated how data from news coverage can accurately predict which candidate will win the poll. However, it has to be noted that the model is not country agnostic. Meaning to say, what works for the US might not be as effective in the Philippines. This may be attributed to some factors such as difference in political dynamics, the number of media outlets present in the country, among other things.\n",
    "\n",
    "For future work, the same approach could be experimented on different political posts such as vice president, senator, or congressman. Instead of conducting the predictive analysis on a national level, a state-wide analysis may as well be explored."
   ]
  },
  {
   "cell_type": "markdown",
   "metadata": {},
   "source": [
    "### References"
   ]
  },
  {
   "cell_type": "markdown",
   "metadata": {},
   "source": [
    "https://www.gdeltproject.org  \n",
    "https://registry.opendata.aws/gdelt/  \n",
    "https://en.wikipedia.org/wiki/Nationwide_opinion_polling_for_the_2016_United_States_presidential_election"
   ]
  },
  {
   "cell_type": "markdown",
   "metadata": {},
   "source": [
    "### Acknowledgements"
   ]
  },
  {
   "cell_type": "markdown",
   "metadata": {},
   "source": [
    "We thank Sir Eduardo David Jr., Asst Prof Christian Alis, PH.D., Assoc. Prof. Erika Legara PH.D., MSDS Admin, and MSDS 2020 for the guidance and assistance in making this study possible. "
   ]
  },
  {
   "cell_type": "code",
   "execution_count": null,
   "metadata": {},
   "outputs": [],
   "source": []
  }
 ],
 "metadata": {
  "kernelspec": {
   "display_name": "Python 3",
   "language": "python",
   "name": "python3"
  },
  "language_info": {
   "codemirror_mode": {
    "name": "ipython",
    "version": 3
   },
   "file_extension": ".py",
   "mimetype": "text/x-python",
   "name": "python",
   "nbconvert_exporter": "python",
   "pygments_lexer": "ipython3",
   "version": "3.7.4"
  }
 },
 "nbformat": 4,
 "nbformat_minor": 2
}
