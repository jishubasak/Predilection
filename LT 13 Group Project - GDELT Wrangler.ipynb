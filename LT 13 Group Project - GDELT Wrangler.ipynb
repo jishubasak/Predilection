{
 "cells": [
  {
   "cell_type": "markdown",
   "metadata": {},
   "source": [
    "# In The News: Predicting Winning Political Candidates From News Tone\n",
    "LT 13 | Basak, Chua, Danao, Roberto"
   ]
  },
  {
   "cell_type": "markdown",
   "metadata": {},
   "source": [
    "## Data Wrangling"
   ]
  },
  {
   "cell_type": "code",
   "execution_count": 4,
   "metadata": {
    "ExecuteTime": {
     "end_time": "2019-12-04T01:29:36.231878Z",
     "start_time": "2019-12-04T01:29:36.214302Z"
    }
   },
   "outputs": [],
   "source": [
    "import numpy as np\n",
    "import dask as da\n",
    "import dask.dataframe as dd\n",
    "import matplotlib.pyplot as plt\n",
    "import datetime\n",
    "import pandas as pd\n",
    "\n",
    "from dask.diagnostics import ProgressBar\n",
    "pbar = ProgressBar()\n",
    "pbar.register()"
   ]
  },
  {
   "cell_type": "code",
   "execution_count": 2,
   "metadata": {
    "ExecuteTime": {
     "end_time": "2019-12-02T12:01:34.054009Z",
     "start_time": "2019-12-02T12:01:33.986408Z"
    }
   },
   "outputs": [],
   "source": [
    "from dask.distributed import Client"
   ]
  },
  {
   "cell_type": "code",
   "execution_count": 3,
   "metadata": {
    "ExecuteTime": {
     "end_time": "2019-12-02T12:01:43.306827Z",
     "start_time": "2019-12-02T12:01:34.056125Z"
    }
   },
   "outputs": [
    {
     "data": {
      "text/html": [
       "<table style=\"border: 2px solid white;\">\n",
       "<tr>\n",
       "<td style=\"vertical-align: top; border: 0px solid white\">\n",
       "<h3 style=\"text-align: left;\">Client</h3>\n",
       "<ul style=\"text-align: left; list-style: none; margin: 0; padding: 0;\">\n",
       "  <li><b>Scheduler: </b>tcp://127.0.0.1:40867</li>\n",
       "  <li><b>Dashboard: </b><a href='http://127.0.0.1:8787/status' target='_blank'>http://127.0.0.1:8787/status</a>\n",
       "</ul>\n",
       "</td>\n",
       "<td style=\"vertical-align: top; border: 0px solid white\">\n",
       "<h3 style=\"text-align: left;\">Cluster</h3>\n",
       "<ul style=\"text-align: left; list-style:none; margin: 0; padding: 0;\">\n",
       "  <li><b>Workers: </b>8</li>\n",
       "  <li><b>Cores: </b>32</li>\n",
       "  <li><b>Memory: </b>270.13 GB</li>\n",
       "</ul>\n",
       "</td>\n",
       "</tr>\n",
       "</table>"
      ],
      "text/plain": [
       "<Client: scheduler='tcp://127.0.0.1:40867' processes=8 cores=32>"
      ]
     },
     "execution_count": 3,
     "metadata": {},
     "output_type": "execute_result"
    }
   ],
   "source": [
    "Client()"
   ]
  },
  {
   "cell_type": "code",
   "execution_count": 4,
   "metadata": {},
   "outputs": [],
   "source": [
    "df = dd.read_csv('s3://gdelt-open-data/events/201*.export.csv', \n",
    "                    delimiter = '\\t', assume_missing = True,\n",
    "                    storage_options={'anon':True}, header=None, dtype= {n:'object' for n in range(0,59)})"
   ]
  },
  {
   "cell_type": "code",
   "execution_count": 5,
   "metadata": {},
   "outputs": [],
   "source": [
    "ids = pd.read_excel('fieldids.xlsx', sheet_name ='Sheet1')['Field Name'].values"
   ]
  },
  {
   "cell_type": "code",
   "execution_count": 6,
   "metadata": {},
   "outputs": [],
   "source": [
    "df.columns = ids"
   ]
  },
  {
   "cell_type": "code",
   "execution_count": 7,
   "metadata": {},
   "outputs": [
    {
     "data": {
      "text/plain": [
       "58"
      ]
     },
     "execution_count": 7,
     "metadata": {},
     "output_type": "execute_result"
    }
   ],
   "source": [
    "len(df.columns)"
   ]
  },
  {
   "cell_type": "code",
   "execution_count": 8,
   "metadata": {},
   "outputs": [],
   "source": [
    "df = df[(df['ActionGeo_CountryCode']=='US') &\n",
    "        (df['SQLDATE'].str.startswith('2016'))][['SQLDATE','MonthYear','Year',\n",
    "                                                 'Actor1Code', 'Actor1Name',\n",
    "                                                 'Actor1CountryCode',\n",
    "                                                 'Actor2Code',\n",
    "                                                 'Actor2Name',\n",
    "                                                 'Actor2CountryCode', \n",
    "                                                 'NumMentions', 'NumSources',\n",
    "                                                 'NumArticles','AvgTone',\n",
    "                                                 'GoldsteinScale',\n",
    "                                                 'SOURCEURL']]"
   ]
  },
  {
   "cell_type": "code",
   "execution_count": 10,
   "metadata": {},
   "outputs": [],
   "source": [
    "df['NumMentions']=df['NumMentions'].astype(str).astype(int)\n",
    "df['NumSources']=df['NumSources'].astype(str).astype(int)\n",
    "df['NumArticles']=df['NumArticles'].astype(str).astype(int)\n",
    "df['AvgTone']=df['AvgTone'].astype(str).astype(float)\n",
    "df['GoldsteinScale']=df['GoldsteinScale'].astype(str).astype(float)"
   ]
  },
  {
   "cell_type": "code",
   "execution_count": 44,
   "metadata": {},
   "outputs": [],
   "source": [
    "def time_serieser(df, name, cols=['NumMentions']):\n",
    "    df['NumMentions'] = df['NumMentions'].astype(str).astype(int)\n",
    "    df['NumSources'] = df['NumSources'].astype(str).astype(int)\n",
    "    df['NumArticles'] = df['NumArticles'].astype(str).astype(int)\n",
    "    df['AvgTone'] = df['AvgTone'].astype(str).astype(float)\n",
    "    df['GoldsteinScale'] = df['GoldsteinScale'].astype(str).astype(float)\n",
    "    df_segment = df[(df['SOURCEURL'].str.contains(name.split('-')[0].lower())) |\n",
    "                    (df['SOURCEURL'].str.contains(name.split('-')[1].lower())) |\n",
    "                    (df['SOURCEURL'].str.contains(name.lower()))][['SQLDATE',\n",
    "                                                                   'Actor1Name',\n",
    "                                                                   'Actor2Name', 'NumMentions',\n",
    "                                                                   'NumSources', 'NumArticles',\n",
    "                                                                   'AvgTone', 'GoldsteinScale']]\n",
    "    if 'MentTone' in cols:\n",
    "        df_segment['MentTone'] = (\n",
    "            df_segment['NumSources']*df_segment['AvgTone'])\n",
    "    for col in cols:\n",
    "        results = (pd.Series(df_segment.groupby(\n",
    "            'SQLDATE').sum()[col].compute()))\n",
    "    return results"
   ]
  },
  {
   "cell_type": "markdown",
   "metadata": {},
   "source": [
    "# Mentions"
   ]
  },
  {
   "cell_type": "code",
   "execution_count": 13,
   "metadata": {},
   "outputs": [],
   "source": [
    "hc = time_serieser(df, name = 'hillary-clinton', cols = ['NumMentions'])"
   ]
  },
  {
   "cell_type": "code",
   "execution_count": 14,
   "metadata": {},
   "outputs": [],
   "source": [
    "\n",
    "with open('clinton_n_mentions.pkl','wb') as f:\n",
    "    pickle.dump(hc,f)"
   ]
  },
  {
   "cell_type": "code",
   "execution_count": 15,
   "metadata": {},
   "outputs": [],
   "source": [
    "dt = time_serieser(df, name = 'donald-trump', cols = ['NumMentions'])"
   ]
  },
  {
   "cell_type": "code",
   "execution_count": 16,
   "metadata": {},
   "outputs": [],
   "source": [
    "with open('trump_n_mentions.pkl','wb') as f:\n",
    "    pickle.dump(dt,f)"
   ]
  },
  {
   "cell_type": "code",
   "execution_count": 17,
   "metadata": {},
   "outputs": [],
   "source": [
    "js = time_serieser(df, name = 'jill-stein', cols = ['NumMentions'])"
   ]
  },
  {
   "cell_type": "code",
   "execution_count": 18,
   "metadata": {},
   "outputs": [],
   "source": [
    "with open('stein_n_mentions.pkl','wb') as f:\n",
    "    pickle.dump(js,f)"
   ]
  },
  {
   "cell_type": "code",
   "execution_count": 14,
   "metadata": {},
   "outputs": [],
   "source": [
    "gj = time_serieser(df, name = 'gary-johnson', cols = ['NumMentions'])"
   ]
  },
  {
   "cell_type": "code",
   "execution_count": 16,
   "metadata": {},
   "outputs": [],
   "source": [
    "import pickle\n",
    "with open('johnson_n_mentions.pkl','wb') as f:\n",
    "    pickle.dump(gj,f)"
   ]
  },
  {
   "cell_type": "markdown",
   "metadata": {},
   "source": [
    "# Sources"
   ]
  },
  {
   "cell_type": "code",
   "execution_count": 22,
   "metadata": {},
   "outputs": [],
   "source": [
    "hc = time_serieser(df, name = 'hillary-clinton', cols = ['NumSources'])"
   ]
  },
  {
   "cell_type": "code",
   "execution_count": 23,
   "metadata": {},
   "outputs": [],
   "source": [
    "import pickle\n",
    "with open('clinton_n_sources.pkl','wb') as f:\n",
    "    pickle.dump(hc,f)"
   ]
  },
  {
   "cell_type": "code",
   "execution_count": 24,
   "metadata": {},
   "outputs": [],
   "source": [
    "dt = time_serieser(df, name = 'donald-trump', cols = ['NumSources'])"
   ]
  },
  {
   "cell_type": "code",
   "execution_count": 25,
   "metadata": {},
   "outputs": [],
   "source": [
    "with open('trump_n_sources.pkl','wb') as f:\n",
    "    pickle.dump(dt,f)"
   ]
  },
  {
   "cell_type": "code",
   "execution_count": 26,
   "metadata": {},
   "outputs": [],
   "source": [
    "js = time_serieser(df, name = 'jill-stein', cols = ['NumSources'])"
   ]
  },
  {
   "cell_type": "code",
   "execution_count": 27,
   "metadata": {},
   "outputs": [],
   "source": [
    "with open('stein_n_sources.pkl','wb') as f:\n",
    "    pickle.dump(js,f)"
   ]
  },
  {
   "cell_type": "code",
   "execution_count": 28,
   "metadata": {},
   "outputs": [],
   "source": [
    "gj = time_serieser(df, name = 'gary-johnson', cols = ['NumSources'])"
   ]
  },
  {
   "cell_type": "code",
   "execution_count": 29,
   "metadata": {},
   "outputs": [],
   "source": [
    "with open('johnson_n_sources.pkl','wb') as f:\n",
    "    pickle.dump(gj,f)"
   ]
  },
  {
   "cell_type": "markdown",
   "metadata": {},
   "source": [
    "# Articles"
   ]
  },
  {
   "cell_type": "code",
   "execution_count": 30,
   "metadata": {},
   "outputs": [],
   "source": [
    "hc = time_serieser(df, name = 'hillary-clinton', cols = ['NumArticles'])"
   ]
  },
  {
   "cell_type": "code",
   "execution_count": 31,
   "metadata": {},
   "outputs": [],
   "source": [
    "import pickle\n",
    "with open('clinton_n_articles.pkl','wb') as f:\n",
    "    pickle.dump(hc,f)"
   ]
  },
  {
   "cell_type": "code",
   "execution_count": 32,
   "metadata": {},
   "outputs": [],
   "source": [
    "dt = time_serieser(df, name = 'donald-trump', cols = ['NumArticles'])"
   ]
  },
  {
   "cell_type": "code",
   "execution_count": 33,
   "metadata": {},
   "outputs": [],
   "source": [
    "with open('trump_n_articles.pkl','wb') as f:\n",
    "    pickle.dump(dt,f)"
   ]
  },
  {
   "cell_type": "code",
   "execution_count": 34,
   "metadata": {},
   "outputs": [],
   "source": [
    "js = time_serieser(df, name = 'jill-stein', cols = ['NumArticles'])"
   ]
  },
  {
   "cell_type": "code",
   "execution_count": 35,
   "metadata": {},
   "outputs": [],
   "source": [
    "with open('stein_n_articles.pkl','wb') as f:\n",
    "    pickle.dump(js,f)"
   ]
  },
  {
   "cell_type": "code",
   "execution_count": 36,
   "metadata": {},
   "outputs": [],
   "source": [
    "gj = time_serieser(df, name = 'gary-johnson', cols = ['NumArticles'])"
   ]
  },
  {
   "cell_type": "code",
   "execution_count": 37,
   "metadata": {},
   "outputs": [],
   "source": [
    "with open('johnson_n_articles.pkl','wb') as f:\n",
    "    pickle.dump(gj,f)"
   ]
  },
  {
   "cell_type": "markdown",
   "metadata": {},
   "source": [
    "# AvgTone"
   ]
  },
  {
   "cell_type": "code",
   "execution_count": 12,
   "metadata": {},
   "outputs": [],
   "source": [
    "hc = time_serieser(df, name = 'hillary-clinton', cols = ['MentTone'])"
   ]
  },
  {
   "cell_type": "code",
   "execution_count": 13,
   "metadata": {},
   "outputs": [],
   "source": [
    "import pickle\n",
    "with open('clinton_n_menttone.pkl','wb') as f:\n",
    "    pickle.dump(hc,f)"
   ]
  },
  {
   "cell_type": "code",
   "execution_count": 14,
   "metadata": {},
   "outputs": [],
   "source": [
    "dt = time_serieser(df, name = 'donald-trump', cols = ['MentTone'])"
   ]
  },
  {
   "cell_type": "code",
   "execution_count": 15,
   "metadata": {},
   "outputs": [],
   "source": [
    "with open('trump_n_menttone.pkl','wb') as f:\n",
    "    pickle.dump(dt,f)"
   ]
  },
  {
   "cell_type": "code",
   "execution_count": 16,
   "metadata": {},
   "outputs": [],
   "source": [
    "js = time_serieser(df, name = 'jill-stein', cols = ['MentTone'])"
   ]
  },
  {
   "cell_type": "code",
   "execution_count": 17,
   "metadata": {},
   "outputs": [],
   "source": [
    "with open('stein_n_menttone.pkl','wb') as f:\n",
    "    pickle.dump(js,f)"
   ]
  },
  {
   "cell_type": "code",
   "execution_count": 18,
   "metadata": {},
   "outputs": [],
   "source": [
    "gj = time_serieser(df, name = 'gary-johnson', cols = ['MentTone'])"
   ]
  },
  {
   "cell_type": "code",
   "execution_count": 12,
   "metadata": {},
   "outputs": [],
   "source": [
    "hc = time_serieser(df, name = 'hillary-clinton', cols = ['MentTone'])"
   ]
  },
  {
   "cell_type": "code",
   "execution_count": 13,
   "metadata": {},
   "outputs": [],
   "source": [
    "import pickle\n",
    "with open('clinton_n_menttone.pkl','wb') as f:\n",
    "    pickle.dump(hc,f)"
   ]
  },
  {
   "cell_type": "code",
   "execution_count": 14,
   "metadata": {},
   "outputs": [],
   "source": [
    "dt = time_serieser(df, name = 'donald-trump', cols = ['MentTone'])"
   ]
  },
  {
   "cell_type": "code",
   "execution_count": 15,
   "metadata": {},
   "outputs": [],
   "source": [
    "with open('trump_n_menttone.pkl','wb') as f:\n",
    "    pickle.dump(dt,f)"
   ]
  },
  {
   "cell_type": "code",
   "execution_count": 16,
   "metadata": {},
   "outputs": [],
   "source": [
    "js = time_serieser(df, name = 'jill-stein', cols = ['MentTone'])"
   ]
  },
  {
   "cell_type": "code",
   "execution_count": 17,
   "metadata": {},
   "outputs": [],
   "source": [
    "with open('stein_n_menttone.pkl','wb') as f:\n",
    "    pickle.dump(js,f)"
   ]
  },
  {
   "cell_type": "code",
   "execution_count": 18,
   "metadata": {},
   "outputs": [],
   "source": [
    "gj = time_serieser(df, name = 'gary-johnson', cols = ['MentTone'])"
   ]
  },
  {
   "cell_type": "code",
   "execution_count": 19,
   "metadata": {},
   "outputs": [],
   "source": [
    "with open('johnson_n_menttone.pkl','wb') as f:\n",
    "    pickle.dump(gj,f)"
   ]
  },
  {
   "cell_type": "code",
   "execution_count": 19,
   "metadata": {},
   "outputs": [],
   "source": [
    "with open('johnson_n_menttone.pkl','wb') as f:\n",
    "    pickle.dump(gj,f)"
   ]
  },
  {
   "cell_type": "markdown",
   "metadata": {},
   "source": [
    "# MentTone"
   ]
  },
  {
   "cell_type": "code",
   "execution_count": 12,
   "metadata": {},
   "outputs": [],
   "source": [
    "hc = time_serieser(df, name = 'hillary-clinton', cols = ['MentTone'])"
   ]
  },
  {
   "cell_type": "code",
   "execution_count": 13,
   "metadata": {},
   "outputs": [],
   "source": [
    "import pickle\n",
    "with open('clinton_n_menttone.pkl','wb') as f:\n",
    "    pickle.dump(hc,f)"
   ]
  },
  {
   "cell_type": "code",
   "execution_count": 14,
   "metadata": {},
   "outputs": [],
   "source": [
    "dt = time_serieser(df, name = 'donald-trump', cols = ['MentTone'])"
   ]
  },
  {
   "cell_type": "code",
   "execution_count": 15,
   "metadata": {},
   "outputs": [],
   "source": [
    "with open('trump_n_menttone.pkl','wb') as f:\n",
    "    pickle.dump(dt,f)"
   ]
  },
  {
   "cell_type": "code",
   "execution_count": 16,
   "metadata": {},
   "outputs": [],
   "source": [
    "js = time_serieser(df, name = 'jill-stein', cols = ['MentTone'])"
   ]
  },
  {
   "cell_type": "code",
   "execution_count": 17,
   "metadata": {},
   "outputs": [],
   "source": [
    "with open('stein_n_menttone.pkl','wb') as f:\n",
    "    pickle.dump(js,f)"
   ]
  },
  {
   "cell_type": "code",
   "execution_count": 18,
   "metadata": {},
   "outputs": [],
   "source": [
    "gj = time_serieser(df, name = 'gary-johnson', cols = ['MentTone'])"
   ]
  },
  {
   "cell_type": "markdown",
   "metadata": {},
   "source": [
    "# AvgTone"
   ]
  },
  {
   "cell_type": "code",
   "execution_count": 12,
   "metadata": {},
   "outputs": [],
   "source": [
    "hc = time_serieser(df, name = 'hillary-clinton', cols = ['AvgTone'])"
   ]
  },
  {
   "cell_type": "code",
   "execution_count": 13,
   "metadata": {},
   "outputs": [],
   "source": [
    "import pickle\n",
    "with open('clinton_n_menttone.pkl','wb') as f:\n",
    "    pickle.dump(hc,f)"
   ]
  },
  {
   "cell_type": "code",
   "execution_count": 14,
   "metadata": {},
   "outputs": [],
   "source": [
    "dt = time_serieser(df, name = 'donald-trump', cols = ['MentTone'])"
   ]
  },
  {
   "cell_type": "code",
   "execution_count": 15,
   "metadata": {},
   "outputs": [],
   "source": [
    "with open('trump_n_menttone.pkl','wb') as f:\n",
    "    pickle.dump(dt,f)"
   ]
  },
  {
   "cell_type": "code",
   "execution_count": 16,
   "metadata": {},
   "outputs": [],
   "source": [
    "js = time_serieser(df, name = 'jill-stein', cols = ['MentTone'])"
   ]
  },
  {
   "cell_type": "code",
   "execution_count": 17,
   "metadata": {},
   "outputs": [],
   "source": [
    "with open('stein_n_menttone.pkl','wb') as f:\n",
    "    pickle.dump(js,f)"
   ]
  },
  {
   "cell_type": "code",
   "execution_count": 18,
   "metadata": {},
   "outputs": [],
   "source": [
    "gj = time_serieser(df, name = 'gary-johnson', cols = ['MentTone'])"
   ]
  },
  {
   "cell_type": "code",
   "execution_count": 19,
   "metadata": {},
   "outputs": [],
   "source": [
    "with open('johnson_n_menttone.pkl','wb') as f:\n",
    "    pickle.dump(gj,f)"
   ]
  },
  {
   "cell_type": "code",
   "execution_count": 19,
   "metadata": {},
   "outputs": [],
   "source": [
    "with open('johnson_n_menttone.pkl','wb') as f:\n",
    "    pickle.dump(gj,f)"
   ]
  },
  {
   "cell_type": "markdown",
   "metadata": {},
   "source": [
    "# ArtiTone"
   ]
  },
  {
   "cell_type": "code",
   "execution_count": 25,
   "metadata": {},
   "outputs": [],
   "source": [
    "hc = time_serieser(df, name = 'hillary-clinton', cols = ['ArtiTone'])"
   ]
  },
  {
   "cell_type": "code",
   "execution_count": 26,
   "metadata": {},
   "outputs": [],
   "source": [
    "import pickle\n",
    "with open('clinton_n_artitone.pkl','wb') as f:\n",
    "    pickle.dump(hc,f)"
   ]
  },
  {
   "cell_type": "code",
   "execution_count": 27,
   "metadata": {},
   "outputs": [],
   "source": [
    "dt = time_serieser(df, name = 'donald-trump', cols = ['ArtiTone'])"
   ]
  },
  {
   "cell_type": "code",
   "execution_count": 28,
   "metadata": {},
   "outputs": [],
   "source": [
    "with open('trump_n_artitone.pkl','wb') as f:\n",
    "    pickle.dump(dt,f)"
   ]
  },
  {
   "cell_type": "code",
   "execution_count": 29,
   "metadata": {},
   "outputs": [],
   "source": [
    "js = time_serieser(df, name = 'jill-stein', cols = ['ArtiTone'])"
   ]
  },
  {
   "cell_type": "code",
   "execution_count": 30,
   "metadata": {},
   "outputs": [],
   "source": [
    "with open('stein_n_artitone.pkl','wb') as f:\n",
    "    pickle.dump(js,f)"
   ]
  },
  {
   "cell_type": "code",
   "execution_count": 31,
   "metadata": {},
   "outputs": [],
   "source": [
    "gj = time_serieser(df, name = 'gary-johnson', cols = ['ArtiTone'])"
   ]
  },
  {
   "cell_type": "code",
   "execution_count": 32,
   "metadata": {},
   "outputs": [],
   "source": [
    "import pickle\n",
    "with open('johnson_n_artitone.pkl','wb') as f:\n",
    "    pickle.dump(gj,f)"
   ]
  },
  {
   "cell_type": "markdown",
   "metadata": {},
   "source": [
    "# SourceTone"
   ]
  },
  {
   "cell_type": "code",
   "execution_count": 36,
   "metadata": {},
   "outputs": [],
   "source": [
    "hc = time_serieser(df, name = 'hillary-clinton', cols = ['SourceTone'])"
   ]
  },
  {
   "cell_type": "code",
   "execution_count": 37,
   "metadata": {},
   "outputs": [],
   "source": [
    "import pickle\n",
    "with open('clinton_n_sourcetone.pkl','wb') as f:\n",
    "    pickle.dump(hc,f)"
   ]
  },
  {
   "cell_type": "code",
   "execution_count": 38,
   "metadata": {},
   "outputs": [],
   "source": [
    "dt = time_serieser(df, name = 'donald-trump', cols = ['SourceTone'])"
   ]
  },
  {
   "cell_type": "code",
   "execution_count": 39,
   "metadata": {},
   "outputs": [],
   "source": [
    "with open('trump_n_sourcetone.pkl','wb') as f:\n",
    "    pickle.dump(dt,f)"
   ]
  },
  {
   "cell_type": "code",
   "execution_count": 40,
   "metadata": {},
   "outputs": [],
   "source": [
    "js = time_serieser(df, name = 'jill-stein', cols = ['SourceTone'])"
   ]
  },
  {
   "cell_type": "code",
   "execution_count": 41,
   "metadata": {},
   "outputs": [],
   "source": [
    "with open('stein_n_sourcetone.pkl','wb') as f:\n",
    "    pickle.dump(js,f)"
   ]
  },
  {
   "cell_type": "code",
   "execution_count": 42,
   "metadata": {},
   "outputs": [],
   "source": [
    "gj = time_serieser(df, name = 'gary-johnson', cols = ['SourceTone'])"
   ]
  },
  {
   "cell_type": "code",
   "execution_count": 43,
   "metadata": {},
   "outputs": [],
   "source": [
    "import pickle\n",
    "with open('johnson_n_sourcetone.pkl','wb') as f:\n",
    "    pickle.dump(gj,f)"
   ]
  },
  {
   "cell_type": "markdown",
   "metadata": {},
   "source": [
    "# GoldsteinScale"
   ]
  },
  {
   "cell_type": "code",
   "execution_count": 46,
   "metadata": {},
   "outputs": [],
   "source": [
    "hc = time_serieser(df, name = 'hillary-clinton', cols = ['GoldsteinScale'])"
   ]
  },
  {
   "cell_type": "code",
   "execution_count": 47,
   "metadata": {},
   "outputs": [],
   "source": [
    "import pickle\n",
    "with open('clinton_n_goldstein.pkl','wb') as f:\n",
    "    pickle.dump(hc,f)"
   ]
  },
  {
   "cell_type": "code",
   "execution_count": 48,
   "metadata": {},
   "outputs": [],
   "source": [
    "dt = time_serieser(df, name = 'donald-trump', cols = ['GoldsteinScale'])"
   ]
  },
  {
   "cell_type": "code",
   "execution_count": 49,
   "metadata": {},
   "outputs": [],
   "source": [
    "with open('trump_n_goldstein.pkl','wb') as f:\n",
    "    pickle.dump(dt,f)"
   ]
  },
  {
   "cell_type": "code",
   "execution_count": 51,
   "metadata": {},
   "outputs": [],
   "source": [
    "js = time_serieser(df, name = 'jill-stein', cols = ['GoldsteinScale'])"
   ]
  },
  {
   "cell_type": "code",
   "execution_count": 52,
   "metadata": {},
   "outputs": [],
   "source": [
    "with open('stein_n_goldstein.pkl','wb') as f:\n",
    "    pickle.dump(js,f)"
   ]
  },
  {
   "cell_type": "code",
   "execution_count": 53,
   "metadata": {},
   "outputs": [],
   "source": [
    "gj = time_serieser(df, name = 'gary-johnson', cols = ['GoldsteinScale'])"
   ]
  },
  {
   "cell_type": "code",
   "execution_count": 54,
   "metadata": {},
   "outputs": [],
   "source": [
    "import pickle\n",
    "with open('johnson_n_goldstein.pkl','wb') as f:\n",
    "    pickle.dump(gj,f)"
   ]
  },
  {
   "cell_type": "code",
   "execution_count": null,
   "metadata": {},
   "outputs": [],
   "source": []
  }
 ],
 "metadata": {
  "kernelspec": {
   "display_name": "Python 3",
   "language": "python",
   "name": "python3"
  },
  "language_info": {
   "codemirror_mode": {
    "name": "ipython",
    "version": 3
   },
   "file_extension": ".py",
   "mimetype": "text/x-python",
   "name": "python",
   "nbconvert_exporter": "python",
   "pygments_lexer": "ipython3",
   "version": "3.7.1"
  }
 },
 "nbformat": 4,
 "nbformat_minor": 2
}
